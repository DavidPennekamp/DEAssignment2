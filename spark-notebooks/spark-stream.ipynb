{
 "cells": [
  {
   "cell_type": "code",
   "execution_count": 39,
   "id": "b57d5127-72c7-4b0f-b9d0-c86e7508c4ed",
   "metadata": {},
   "outputs": [],
   "source": [
    "from pyspark.sql import SparkSession\n",
    "from pyspark import SparkConf\n",
    "from pyspark.sql.types import StructType, StructField, LongType, StringType, DoubleType\n",
    "from time import sleep\n",
    "from pyspark.sql.functions import col, size, length\n",
    "\n",
    "sparkConf = SparkConf()\n",
    "sparkConf.setMaster(\"spark://spark-master:7077\")\n",
    "sparkConf.setAppName(\"airbnb_reviews\")\n",
    "sparkConf.set(\"spark.driver.memory\", \"2g\")\n",
    "sparkConf.set(\"spark.executor.cores\", \"1\")\n",
    "sparkConf.set(\"spark.driver.cores\", \"1\")\n",
    "sparkConf.set(\"spark.sql.streaming.checkpointLocation\", '/home/jovyan/checkpoint')\n",
    "# create the spark session, which is the entry point to Spark SQL engine.\n",
    "spark = SparkSession.builder.config(conf=sparkConf).getOrCreate()\n",
    "\n",
    "\n",
    "dataSchema = StructType(\n",
    "        [StructField(\"index\", LongType(), True),\n",
    "         StructField(\"Renter_ID\", LongType(), True),\n",
    "         StructField(\"Listing_ID\", LongType(), True),\n",
    "         StructField(\"Review\", StringType(), True),\n",
    "         StructField(\"Date\", StringType(), True),])\n",
    "\n",
    "\n",
    "conf = spark.sparkContext._jsc.hadoopConfiguration()\n",
    "conf.set(\"fs.gs.impl\", \"com.google.cloud.hadoop.fs.gcs.GoogleHadoopFileSystem\")\n",
    "conf.set(\"fs.AbstractFileSystem.gs.impl\", \"com.google.cloud.hadoop.fs.gcs.GoogleHadoopFS\")\n",
    "\n",
    "# Read from a source \n",
    "sdf = spark.readStream.schema(dataSchema).option(\"maxFilesPerTrigger\", 1) \\\n",
    "        .option(\"header\",\"true\") \\\n",
    "        .csv(\"gs://assignment2_airbnb/airbnb_data/Reviews\")\n",
    "\n",
    "#Do a calculation\n",
    "reviews = sdf.select(['Renter_ID','Listing_ID','Review','Date'])\n",
    "reviews = reviews.filter(\"Review is not NULL\")\n",
    "reviews = reviews.filter(\"Listing_ID <10000000000\")\n",
    "\n",
    "\n",
    "# Write to a sink - here, the output is memory (only for testing). The query name (i.e., activity_counts) will be the Spark SQL table name.\n",
    "activityQuery = reviews.writeStream \\\n",
    "                    .format(\"csv\").outputMode(\"append\") \\\n",
    "                    .option (\"path\", \"gs://assignment2_airbnb/Results_stream\") \\\n",
    "                    .option(\"header\", \"true\") \\\n",
    "                    .start()\n",
    "# Testing \n",
    "#for x in range(10):\n",
    "#    spark.sql(\"SELECT * FROM reviews\").show()\n",
    "#    sleep(5)"
   ]
  },
  {
   "cell_type": "code",
   "execution_count": 38,
   "id": "6af63619-d2ad-4b38-921f-134b45a85402",
   "metadata": {},
   "outputs": [],
   "source": [
    "spark.stop()\n"
   ]
  }
 ],
 "metadata": {
  "kernelspec": {
   "display_name": "Python 3 (ipykernel)",
   "language": "python",
   "name": "python3"
  },
  "language_info": {
   "codemirror_mode": {
    "name": "ipython",
    "version": 3
   },
   "file_extension": ".py",
   "mimetype": "text/x-python",
   "name": "python",
   "nbconvert_exporter": "python",
   "pygments_lexer": "ipython3",
   "version": "3.10.6"
  }
 },
 "nbformat": 4,
 "nbformat_minor": 5
}
