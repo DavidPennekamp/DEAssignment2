{
 "cells": [
  {
   "cell_type": "code",
   "execution_count": 3,
   "metadata": {},
   "outputs": [],
   "source": [
    "from pyspark.sql import SparkSession\n",
    "from pyspark import SparkConf\n",
    "\n",
    "sparkConf = SparkConf()\n",
    "sparkConf.setMaster(\"local\")\n",
    "sparkConf.setAppName(\"airbnb\")\n",
    "sparkConf.set(\"spark.driver.memory\", \"2g\")\n",
    "sparkConf.set(\"spark.executor.cores\", \"1\")\n",
    "sparkConf.set(\"spark.driver.cores\", \"1\")\n",
    "# create the spark session, which is the entry point to Spark SQL engine.\n",
    "spark = SparkSession.builder.config(conf=sparkConf).getOrCreate()\n",
    "\n",
    "# Setup hadoop fs configuration for schema gs://\n",
    "conf = spark.sparkContext._jsc.hadoopConfiguration()\n",
    "conf.set(\"fs.gs.impl\", \"com.google.cloud.hadoop.fs.gcs.GoogleHadoopFileSystem\")\n",
    "conf.set(\"fs.AbstractFileSystem.gs.impl\", \"com.google.cloud.hadoop.fs.gcs.GoogleHadoopFS\")\n",
    "\n",
    "#  Google Storage File Path\n",
    "listings_file_path = '../airbnbdata/df_listings.csv'\n",
    "listing_city_file_path = '../airbnbdata/df_listing_city.csv'\n",
    "owner_file_path = '../airbnbdata/df_owner.csv'\n",
    "owner_listings_file_path = '../airbnbdata/df_owner_listings.csv'\n",
    "renter_file_path = '../airbnbdata/df_renter.csv'\n",
    "review_file_path = '../airbnbdata/df_review.csv'\n",
    "\n",
    "\n",
    "#gsc_file_path = 'gs://assignment2_airbnb/df_listings.csv' \n",
    "\n",
    "df_listings = spark.read.format(\"csv\").option(\"header\", \"true\") \\\n",
    "       .load(listings_file_path)\n",
    "df_listing_city = spark.read.format(\"csv\").option(\"header\", \"true\") \\\n",
    "       .load(listing_city_file_path)\n",
    "df_owner = spark.read.format(\"csv\").option(\"header\", \"true\") \\\n",
    "       .load(owner_file_path)\n",
    "df_owner_listings = spark.read.format(\"csv\").option(\"header\", \"true\") \\\n",
    "       .load(owner_listings_file_path)\n",
    "df_renter = spark.read.format(\"csv\").option(\"header\", \"true\") \\\n",
    "       .load(renter_file_path)\n",
    "df_review = spark.read.format(\"csv\").option(\"header\", \"true\") \\\n",
    "       .load(review_file_path)\n"
   ]
  },
  {
   "cell_type": "code",
   "execution_count": 5,
   "metadata": {},
   "outputs": [
    {
     "name": "stdout",
     "output_type": "stream",
     "text": [
      "+---+------+-------+\n",
      "|_c0|    id|host_id|\n",
      "+---+------+-------+\n",
      "|  0|103875| 541315|\n",
      "|  1|113693| 577957|\n",
      "|  2|154506| 743189|\n",
      "|  3|378711|1902132|\n",
      "|  4|450807|2238496|\n",
      "+---+------+-------+\n",
      "only showing top 5 rows\n",
      "\n"
     ]
    }
   ],
   "source": [
    "df_owner_listings.show(5)"
   ]
  },
  {
   "cell_type": "code",
   "execution_count": null,
   "metadata": {},
   "outputs": [],
   "source": []
  }
 ],
 "metadata": {
  "kernelspec": {
   "display_name": "Python 3.7.5",
   "language": "python",
   "name": "python3"
  },
  "language_info": {
   "codemirror_mode": {
    "name": "ipython",
    "version": 3
   },
   "file_extension": ".py",
   "mimetype": "text/x-python",
   "name": "python",
   "nbconvert_exporter": "python",
   "pygments_lexer": "ipython3",
   "version": "3.7.5"
  },
  "orig_nbformat": 4,
  "vscode": {
   "interpreter": {
    "hash": "0d0b357807bdd6cd8aa1b36cc9830dd9025da982ad3117fc0608eb1481b3304b"
   }
  }
 },
 "nbformat": 4,
 "nbformat_minor": 2
}
