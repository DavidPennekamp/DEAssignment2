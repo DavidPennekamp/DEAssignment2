{
 "cells": [
  {
   "cell_type": "code",
   "execution_count": 16,
   "metadata": {},
   "outputs": [],
   "source": [
    "from pyspark.sql import SparkSession\n",
    "from pyspark import SparkConf\n",
    "\n",
    "sparkConf = SparkConf()\n",
    "sparkConf.setMaster(\"local\")\n",
    "sparkConf.setAppName(\"airbnb\")\n",
    "sparkConf.set(\"spark.driver.memory\", \"2g\")\n",
    "sparkConf.set(\"spark.executor.cores\", \"1\")\n",
    "sparkConf.set(\"spark.driver.cores\", \"1\")\n",
    "# create the spark session, which is the entry point to Spark SQL engine.\n",
    "spark = SparkSession.builder.config(conf=sparkConf).getOrCreate()\n",
    "\n",
    "# Setup hadoop fs configuration for schema gs://\n",
    "conf = spark.sparkContext._jsc.hadoopConfiguration()\n",
    "conf.set(\"fs.gs.impl\", \"com.google.cloud.hadoop.fs.gcs.GoogleHadoopFileSystem\")\n",
    "conf.set(\"fs.AbstractFileSystem.gs.impl\", \"com.google.cloud.hadoop.fs.gcs.GoogleHadoopFS\")\n",
    "\n",
    "#  Google Storage File Path\n",
    "listings_file_path = '../airbnbdata/df_listings.csv'\n",
    "listing_city_file_path = '../airbnbdata/df_listing_city.csv'\n",
    "owner_file_path = '../airbnbdata/df_owner.csv'\n",
    "owner_listings_file_path = '../airbnbdata/df_owner_listings.csv'\n",
    "renter_file_path = '../airbnbdata/df_renter.csv'\n",
    "review_file_path = '../airbnbdata/df_review.csv'\n",
    "\n",
    "\n",
    "#gsc_file_path = 'gs://assignment2_airbnb/df_listings.csv' \n",
    "\n",
    "df_listings = spark.read.format(\"csv\").option(\"header\", \"true\") \\\n",
    "       .load(listings_file_path)\n",
    "df_listing_city = spark.read.format(\"csv\").option(\"header\", \"true\") \\\n",
    "       .load(listing_city_file_path)\n",
    "df_owner = spark.read.format(\"csv\").option(\"header\", \"true\") \\\n",
    "       .load(owner_file_path)\n",
    "df_owner_listings = spark.read.format(\"csv\").option(\"header\", \"true\") \\\n",
    "       .load(owner_listings_file_path)\n",
    "df_renter = spark.read.format(\"csv\").option(\"header\", \"true\") \\\n",
    "       .load(renter_file_path)\n",
    "df_review = spark.read.format(\"csv\").option(\"header\", \"true\") \\\n",
    "       .load(review_file_path)\n",
    "\n",
    "df_listings.createOrReplaceTempView(\"listings\")\n",
    "df_listing_city.createOrReplaceTempView(\"listing_city\")\n",
    "df_owner.createOrReplaceTempView(\"owner\")\n",
    "df_owner_listings.createOrReplaceTempView(\"owner_listings\")\n",
    "df_renter.createOrReplaceTempView(\"renter\")\n",
    "df_review.createOrReplaceTempView(\"review\")\n",
    "\n"
   ]
  },
  {
   "cell_type": "code",
   "execution_count": 48,
   "metadata": {},
   "outputs": [],
   "source": [
    "SQL_QUERY = \"\"\"Select\n",
    "    owner.host_id as owner_id,\n",
    "    round(avg(review_scores_rating), 2) as avg_rating,\n",
    "    count(*) as num_listings\n",
    "From\n",
    "    listings, owner, owner_listings\n",
    "Where\n",
    "    listings.id = owner_listings.id\n",
    "    and owner.host_id = owner_listings.host_id\n",
    "Group by\n",
    "    owner.host_id\n",
    "HAVING count(*) > 10\n",
    "Order by\n",
    "    avg_rating desc\"\"\""
   ]
  },
  {
   "cell_type": "code",
   "execution_count": 49,
   "metadata": {},
   "outputs": [
    {
     "name": "stdout",
     "output_type": "stream",
     "text": [
      "+---------+----------+------------+\n",
      "| owner_id|avg_rating|num_listings|\n",
      "+---------+----------+------------+\n",
      "|244141635|      4.82|          12|\n",
      "|203731852|      4.82|          20|\n",
      "|  5796250|      4.82|          14|\n",
      "| 67005410|       4.8|          17|\n",
      "|177701530|      4.78|          12|\n",
      "|436284753|       4.7|          11|\n",
      "|243878598|      4.67|          12|\n",
      "|448782489|      4.64|          36|\n",
      "|   300966|      4.59|          20|\n",
      "|  3040748|      4.59|          13|\n",
      "| 10239880|      4.59|          22|\n",
      "|  9165668|      4.59|          23|\n",
      "|  5285926|      4.54|          29|\n",
      "|364305280|      4.51|          14|\n",
      "|244520390|      4.49|          19|\n",
      "|241644101|      4.46|          14|\n",
      "| 14574533|      4.45|          21|\n",
      "|115403367|      4.45|          14|\n",
      "|245267147|       4.4|          12|\n",
      "| 49695547|      4.39|          11|\n",
      "+---------+----------+------------+\n",
      "only showing top 20 rows\n",
      "\n"
     ]
    }
   ],
   "source": [
    "spark.sql(SQL_QUERY).show(20)"
   ]
  },
  {
   "cell_type": "code",
   "execution_count": null,
   "metadata": {},
   "outputs": [],
   "source": []
  }
 ],
 "metadata": {
  "kernelspec": {
   "display_name": "Python 3.10.6 ('DataEngineeringVenv')",
   "language": "python",
   "name": "python3"
  },
  "language_info": {
   "codemirror_mode": {
    "name": "ipython",
    "version": 3
   },
   "file_extension": ".py",
   "mimetype": "text/x-python",
   "name": "python",
   "nbconvert_exporter": "python",
   "pygments_lexer": "ipython3",
   "version": "3.10.6"
  },
  "orig_nbformat": 4,
  "vscode": {
   "interpreter": {
    "hash": "49303891778c4f58082ad0dfc18fc0f8ba3b5d9ba2134863691f55a7f3795b8b"
   }
  }
 },
 "nbformat": 4,
 "nbformat_minor": 2
}
