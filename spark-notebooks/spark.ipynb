{
 "cells": [
  {
   "cell_type": "code",
   "execution_count": 1,
   "metadata": {},
   "outputs": [],
   "source": [
    "from pyspark.sql import SparkSession\n",
    "from pyspark import SparkConf\n",
    "\n",
    "sparkConf = SparkConf()\n",
    "sparkConf.setMaster(\"spark://spark-master:7077\")\n",
    "sparkConf.setAppName(\"airbnb\")\n",
    "sparkConf.set(\"spark.driver.memory\", \"2g\")\n",
    "sparkConf.set(\"spark.executor.cores\", \"1\")\n",
    "sparkConf.set(\"spark.driver.cores\", \"1\")\n",
    "# create the spark session, which is the entry point to Spark SQL engine.\n",
    "spark = SparkSession.builder.config(conf=sparkConf).getOrCreate()\n",
    "\n",
    "# Setup hadoop fs configuration for schema gs://\n",
    "conf = spark.sparkContext._jsc.hadoopConfiguration()\n",
    "conf.set(\"fs.gs.impl\", \"com.google.cloud.hadoop.fs.gcs.GoogleHadoopFileSystem\")\n",
    "conf.set(\"fs.AbstractFileSystem.gs.impl\", \"com.google.cloud.hadoop.fs.gcs.GoogleHadoopFS\")\n",
    "\n",
    "#  Google Storage File Path\n",
    "listings_amsterdam_file_path = 'gs://assignment2_airbnb/airbnb_data/Amsterdam/listings_a.csv' \n",
    "listings_rotterdam_file_path = 'gs://assignment2_airbnb/airbnb_data/Rotterdam/listings_r.csv' \n",
    "listings_denhaag_file_path = 'gs://assignment2_airbnb/airbnb_data/DenHaag/listings_dh.csv' \n",
    "reviews_amsterdam_file_path = 'gs://assignment2_airbnb/airbnb_data/Amsterdam/reviews.csv' \n",
    "reviews_rotterdam_file_path = 'gs://assignment2_airbnb/airbnb_data/Rotterdam/reviews.csv' \n",
    "reviews_denhaag_file_path = 'gs://assignment2_airbnb/airbnb_data/DenHaag/reviews.csv' \n",
    "\n",
    "\n",
    "df_listings_amsterdam = spark.read.format(\"csv\").option(\"header\", \"true\") \\\n",
    "       .load(listings_amsterdam_file_path)\n",
    "df_listings_rotterdam = spark.read.format(\"csv\").option(\"header\", \"true\") \\\n",
    "       .load(listings_rotterdam_file_path)\n",
    "df_listings_denhaag = spark.read.format(\"csv\").option(\"header\", \"true\") \\\n",
    "       .load(listings_denhaag_file_path)\n",
    "df_reviews_amsterdam = spark.read.format(\"csv\").option(\"header\", \"true\") \\\n",
    "       .load(reviews_amsterdam_file_path)\n",
    "df_reviews_rotterdam = spark.read.format(\"csv\").option(\"header\", \"true\") \\\n",
    "       .load(reviews_rotterdam_file_path)\n",
    "df_reviews_denhaag = spark.read.format(\"csv\").option(\"header\", \"true\") \\\n",
    "       .load(reviews_denhaag_file_path)\n",
    "\n"
   ]
  },
  {
   "cell_type": "code",
   "execution_count": 2,
   "metadata": {},
   "outputs": [],
   "source": [
    "from pyspark.sql.functions import lit\n",
    "df_listings_amsterdam=df_listings_amsterdam.withColumn(\"City\", lit('Amsterdam'))\n",
    "df_listings_rotterdam=df_listings_rotterdam.withColumn(\"City\", lit('Rotterdam'))\n",
    "df_listings_denhaag=df_listings_denhaag.withColumn(\"City\", lit('Den Haag'))"
   ]
  },
  {
   "cell_type": "code",
   "execution_count": 3,
   "metadata": {},
   "outputs": [],
   "source": [
    "df_listings_unfiltered=df_listings_amsterdam.union(df_listings_rotterdam.union(df_listings_denhaag))"
   ]
  },
  {
   "cell_type": "code",
   "execution_count": 4,
   "metadata": {},
   "outputs": [
    {
     "name": "stdout",
     "output_type": "stream",
     "text": [
      "+------+--------------------+---------+--------------------+\n",
      "|    id|                name|    price|review_scores_rating|\n",
      "+------+--------------------+---------+--------------------+\n",
      "|  2818|Quiet Garden View...|   $49.00|                4.89|\n",
      "| 20168|Studio with priva...|  $106.00|                4.44|\n",
      "| 27886|Romantic, stylish...|  $136.00|                4.94|\n",
      "| 28871|Comfortable doubl...|   $75.00|                4.88|\n",
      "| 29051|Comfortable singl...|   $55.00|                4.79|\n",
      "| 44391|Quiet 2-bedroom A...|  $240.00|                4.72|\n",
      "| 49552|Multatuli Luxury ...|  $245.00|                4.92|\n",
      "| 50523|B & B de 9 Straat...|  $124.00|                4.87|\n",
      "| 55709|Bright Loft in Ce...|  $250.00|                4.95|\n",
      "| 55868|Apartment near Mu...|  $149.00|                4.86|\n",
      "| 62015|Charming, beautif...|  $120.00|                4.91|\n",
      "| 80635|TOP LOCATED Canal...|   $82.00|                4.77|\n",
      "| 82482|The Backroom - Ce...|  $119.00|                 4.5|\n",
      "| 91535|\"Privat room and ...|  $165.00|                 4.8|\n",
      "| 97221|Beautiful and spa...|   $65.00|                4.58|\n",
      "| 97476|Spacious, bright ...|  $115.00|                4.89|\n",
      "|137026|Entire house with...|  $265.00|                4.76|\n",
      "|155548|Apartment 2 minut...|  $200.00|                4.76|\n",
      "|162467|Modern app. with ...|  $175.00|                4.76|\n",
      "|168769|SUPERLOCATED Room...|   $88.00|                4.58|\n",
      "|169356|Central,Rooftop 3...|  $195.00|                 5.0|\n",
      "|171054|Spacious apartmen...|  $120.00|                4.75|\n",
      "|179528|Authentic Amsterd...|  $305.00|                4.53|\n",
      "|188347|Clean & Cozy room...|   $88.00|                4.65|\n",
      "|189754|Metropolitan B&B ...|  $200.00|                4.78|\n",
      "|193038|Private Loft&Bath...|  $118.00|                4.96|\n",
      "|214531|LUXURIOUS GUESTHO...|  $115.00|                4.82|\n",
      "|219276|Suite in Canalhou...|  $300.00|                 5.0|\n",
      "|222516|Cosy apartment in...|  $119.00|                4.71|\n",
      "|245927|Sonnenberg - Cana...|  $551.00|                4.84|\n",
      "|247805|Bellavista, centr...|  $122.00|                4.86|\n",
      "|252080|Amazing apartment...|  $350.00|                4.91|\n",
      "|254800|Amazing apartment...|  $296.00|                4.94|\n",
      "|255809|stylish apartment...|  $318.00|                4.87|\n",
      "|262394|Charming Studio w...|   $88.00|                4.83|\n",
      "|274688|Cozy sleeping in ...|   $88.00|                4.85|\n",
      "|274706|Beautiful central...|  $300.00|                4.95|\n",
      "|283170|5-bedrooms house;...|$1,236.00|                4.51|\n",
      "|286374|Cozy and quiet 1 ...|  $130.00|                4.75|\n",
      "|286500|Centre, canal vie...|  $171.00|                4.89|\n",
      "|290701|Central, big wind...|  $161.00|                4.86|\n",
      "|291752|Cozy & large bohe...|  $105.00|                4.87|\n",
      "|304082|Quiet studio in t...|  $151.00|                4.76|\n",
      "|304143|Unique Beautiful ...|   $88.00|                4.55|\n",
      "|306852|SunShine, A Sunny...|  $200.00|                4.61|\n",
      "|307497|Sailing ship grou...|  $911.00|                4.88|\n",
      "|307621|SunBird, Sunny Ap...|  $125.00|                 4.5|\n",
      "|308028|SunFlower, A Sunn...|   $95.00|                4.77|\n",
      "|311124|*historic centre*...|  $225.00|                4.75|\n",
      "|319985|Elegant Apparteme...|  $239.00|                4.75|\n",
      "+------+--------------------+---------+--------------------+\n",
      "only showing top 50 rows\n",
      "\n"
     ]
    }
   ],
   "source": [
    "df_listings=df_listings_unfiltered.select(['id','name','price','review_scores_rating'])\n",
    "df_listings.show(50)"
   ]
  },
  {
   "cell_type": "code",
   "execution_count": 5,
   "metadata": {},
   "outputs": [],
   "source": [
    "df_listing_city=df_listings_unfiltered.select(['id','city'])"
   ]
  },
  {
   "cell_type": "code",
   "execution_count": 6,
   "metadata": {},
   "outputs": [],
   "source": [
    "df_owner_listings=df_listings_unfiltered.select(['id','host_id'])"
   ]
  },
  {
   "cell_type": "code",
   "execution_count": 7,
   "metadata": {},
   "outputs": [],
   "source": [
    "df_owner=df_listings_unfiltered.select(['host_id','host_name'])\n",
    "df_owner=df_owner.dropDuplicates(['host_id'])"
   ]
  },
  {
   "cell_type": "code",
   "execution_count": 8,
   "metadata": {},
   "outputs": [],
   "source": [
    "from pyspark.sql.functions import regexp_replace\n",
    "#remove the dollar sign from the price column and convert it to float\n",
    "df_listings = df_listings.withColumn(\"price\", regexp_replace(\"price\", \"\\$\", \"\"))\n",
    "df_listings = df_listings.withColumn(\"price\", regexp_replace(\"price\", \"\\,\", \"\"))\n",
    "df_listings = df_listings.withColumn(\"price\", df_listings[\"price\"].cast(\"float\"))\n",
    "#drop the wors where price is zero\n",
    "df_listings = df_listings.filter(df_listings.price > 0)"
   ]
  },
  {
   "cell_type": "code",
   "execution_count": 9,
   "metadata": {},
   "outputs": [],
   "source": [
    "#order the data by price\n",
    "df_listings_ordered = df_listings.orderBy(\"price\", ascending=True)"
   ]
  },
  {
   "cell_type": "code",
   "execution_count": 10,
   "metadata": {},
   "outputs": [],
   "source": [
    "\n",
    "df_listings.createOrReplaceTempView(\"listings\")\n",
    "df_listing_city.createOrReplaceTempView(\"listing_city\")\n",
    "df_owner.createOrReplaceTempView(\"owner\")\n",
    "df_owner_listings.createOrReplaceTempView(\"owner_listings\")"
   ]
  },
  {
   "cell_type": "code",
   "execution_count": 11,
   "metadata": {},
   "outputs": [
    {
     "name": "stdout",
     "output_type": "stream",
     "text": [
      "+------+--------------------+-----+--------------------+\n",
      "|    id|                name|price|review_scores_rating|\n",
      "+------+--------------------+-----+--------------------+\n",
      "|  2818|Quiet Garden View...| 49.0|                4.89|\n",
      "| 20168|Studio with priva...|106.0|                4.44|\n",
      "| 27886|Romantic, stylish...|136.0|                4.94|\n",
      "| 28871|Comfortable doubl...| 75.0|                4.88|\n",
      "| 29051|Comfortable singl...| 55.0|                4.79|\n",
      "| 44391|Quiet 2-bedroom A...|240.0|                4.72|\n",
      "| 49552|Multatuli Luxury ...|245.0|                4.92|\n",
      "| 50523|B & B de 9 Straat...|124.0|                4.87|\n",
      "| 55709|Bright Loft in Ce...|250.0|                4.95|\n",
      "| 55868|Apartment near Mu...|149.0|                4.86|\n",
      "| 62015|Charming, beautif...|120.0|                4.91|\n",
      "| 80635|TOP LOCATED Canal...| 82.0|                4.77|\n",
      "| 82482|The Backroom - Ce...|119.0|                 4.5|\n",
      "| 91535|\"Privat room and ...|165.0|                 4.8|\n",
      "| 97221|Beautiful and spa...| 65.0|                4.58|\n",
      "| 97476|Spacious, bright ...|115.0|                4.89|\n",
      "|137026|Entire house with...|265.0|                4.76|\n",
      "|155548|Apartment 2 minut...|200.0|                4.76|\n",
      "|162467|Modern app. with ...|175.0|                4.76|\n",
      "|168769|SUPERLOCATED Room...| 88.0|                4.58|\n",
      "+------+--------------------+-----+--------------------+\n",
      "only showing top 20 rows\n",
      "\n"
     ]
    }
   ],
   "source": [
    "df_listings.show()"
   ]
  },
  {
   "cell_type": "code",
   "execution_count": null,
   "metadata": {},
   "outputs": [],
   "source": []
  },
  {
   "cell_type": "code",
   "execution_count": 12,
   "metadata": {},
   "outputs": [
    {
     "name": "stdout",
     "output_type": "stream",
     "text": [
      "Found 81 listings with at least 5 listings\n"
     ]
    }
   ],
   "source": [
    "min_nr_listings = 5\n",
    "\n",
    "sql_query_highest_ratings = f\"\"\"SELECT\n",
    "    owner.host_id as owner_id,\n",
    "    round(avg(review_scores_rating), 2) as avg_rating,\n",
    "    count(*) as num_listings\n",
    "FROM\n",
    "    listings, owner, owner_listings\n",
    "WHERE\n",
    "    listings.id = owner_listings.id\n",
    "    and owner.host_id = owner_listings.host_id\n",
    "GROUP BY\n",
    "    owner.host_id\n",
    "HAVING count(*) > {min_nr_listings}\n",
    "ORDER BY\n",
    "    avg_rating desc\"\"\"\n",
    "\n",
    "highest_ratings = spark.sql(sql_query_highest_ratings)\n",
    "\n",
    "print(f\"Found {highest_ratings.count()} listings with at least {min_nr_listings} listings\")\n"
   ]
  },
  {
   "cell_type": "code",
   "execution_count": 13,
   "metadata": {},
   "outputs": [],
   "source": [
    "highest_ratings.toPandas().to_csv(\"gs://assignment2_airbnb/Results/highest_ratings.csv\")"
   ]
  },
  {
   "cell_type": "code",
   "execution_count": 14,
   "metadata": {},
   "outputs": [
    {
     "name": "stdout",
     "output_type": "stream",
     "text": [
      "Found 8 owners with listings in at least 2 cities\n",
      "+---------+----------------+----------+\n",
      "|  host_id|       host_name|num_cities|\n",
      "+---------+----------------+----------+\n",
      "| 10239880|           Lucas|         2|\n",
      "|115324475|             Lin|         2|\n",
      "|121985032| Tess - BELVILLA|         2|\n",
      "|128826790| Natasja & Mylan|         2|\n",
      "|177701530| Hosted By Wendy|         2|\n",
      "| 19894111|Arjen & Nathalie|         2|\n",
      "| 20465009|          Alette|         2|\n",
      "|244520390|           Gunni|         2|\n",
      "+---------+----------------+----------+\n",
      "\n"
     ]
    }
   ],
   "source": [
    "# Make a query to the Spark SQL engine\n",
    "# Check which owners have at least one listing in each of the 3 cities\n",
    "\n",
    "# Table names: listings, listing_city, owner, owner_listings, renter, review\n",
    "# listings(id, name, price, review_scores_rating)\n",
    "# listing_city(id, city)\n",
    "# owner(host_id, host_name)\n",
    "# owner_listings(id, host_id)\n",
    "# renter(renter_id, name)\n",
    "# review(renter_id, listing_id, review)\n",
    "\n",
    "# Take owners that have listings in all of Amsterdam, Rotterdam and Den Haag\n",
    "\n",
    "nr_cities = 2\n",
    "\n",
    "query_owners_in_at_least_2_cities = f\"\"\"\n",
    "SELECT\n",
    "    owner.host_id,\n",
    "    owner.host_name,\n",
    "    count(distinct listing_city.city) as num_cities\n",
    "FROM\n",
    "    owner, owner_listings, listing_city\n",
    "WHERE\n",
    "    owner.host_id = owner_listings.host_id\n",
    "    and owner_listings.id = listing_city.id\n",
    "GROUP BY\n",
    "    owner.host_id, owner.host_name\n",
    "HAVING\n",
    "    count(distinct listing_city.city) >= {nr_cities}\n",
    "\n",
    "\"\"\"\n",
    "\n",
    "results_owners_in_at_least_2_cities = spark.sql(query_owners_in_at_least_2_cities)\n",
    "\n",
    "print(f\"Found {results_owners_in_at_least_2_cities.count()} owners with listings in at least {nr_cities} cities\")\n",
    "results_owners_in_at_least_2_cities.show()"
   ]
  },
  {
   "cell_type": "code",
   "execution_count": 15,
   "metadata": {},
   "outputs": [],
   "source": [
    "results_owners_in_at_least_2_cities.toPandas().to_csv(\"gs://assignment2_airbnb/Results/owners_two_cities.csv\")"
   ]
  },
  {
   "cell_type": "code",
   "execution_count": 16,
   "metadata": {},
   "outputs": [
    {
     "name": "stdout",
     "output_type": "stream",
     "text": [
      "Found 24 owners with at least 10 listings\n"
     ]
    }
   ],
   "source": [
    "# Table names: listings, listing_city, owner, owner_listings, renter, review\n",
    "# listings(id, name, price, review_scores_rating)\n",
    "# listing_city(id, city)\n",
    "# owner(host_id, host_name)\n",
    "# owner_listings(id, host_id)\n",
    "# renter(renter_id, name)\n",
    "# review(renter_id, listing_id, review)\n",
    "\n",
    "min_listings = 10\n",
    "\n",
    "# Find owners with at least 10 listings\n",
    "query_owners_with_at_least_10_listings = \"\"\"\n",
    "SELECT\n",
    "    owner.host_id as owner_id,\n",
    "    owner.host_name as owner_name,\n",
    "    COUNT(*) as num_listings,\n",
    "    ROUND(AVG(listings.price), 2) as avg_price,\n",
    "    ROUND(AVG(listings.review_scores_rating), 1) as avg_rating\n",
    "FROM\n",
    "    listings, owner, owner_listings\n",
    "WHERE\n",
    "    listings.id = owner_listings.id\n",
    "    and owner.host_id = owner_listings.host_id\n",
    "GROUP BY\n",
    "    owner.host_id, owner.host_name\n",
    "HAVING COUNT(*) > 10\n",
    "ORDER BY\n",
    "    num_listings DESC\n",
    "\"\"\"\n",
    "\n",
    "results_owners_10_listings = spark.sql(query_owners_with_at_least_10_listings)\n",
    "print(f\"Found {results_owners_10_listings.count()} owners with at least {min_listings} listings\")"
   ]
  },
  {
   "cell_type": "code",
   "execution_count": 17,
   "metadata": {},
   "outputs": [],
   "source": [
    "results_owners_10_listings.toPandas().to_csv(\"gs://assignment2_airbnb/Results/owners_10_listings.csv\")"
   ]
  },
  {
   "cell_type": "code",
   "execution_count": 39,
   "metadata": {},
   "outputs": [
    {
     "name": "stdout",
     "output_type": "stream",
     "text": [
      "+---------+---------------+---------+------------+\n",
      "| owner_id|     owner_name|     city|num_listings|\n",
      "+---------+---------------+---------+------------+\n",
      "| 14574533|Hotel Not Hotel|Amsterdam|          21|\n",
      "|138369331|          Peter|Amsterdam|          20|\n",
      "|203731852|   SWEETS Hotel|Amsterdam|          20|\n",
      "| 67005410|      Feliciano|Amsterdam|          17|\n",
      "|241644101|     Wittenberg|Amsterdam|          14|\n",
      "+---------+---------------+---------+------------+\n",
      "\n"
     ]
    }
   ],
   "source": [
    "#select the 3 owners with the most listings per city\n",
    "sql_query_most_listings_ams = f\"\"\"SELECT\n",
    "    owner.host_id as owner_id,\n",
    "    owner.host_name as owner_name,\n",
    "    listing_city.city as city,\n",
    "    count(*) as num_listings\n",
    "FROM\n",
    "    listings, owner, owner_listings, listing_city\n",
    "WHERE\n",
    "    listings.id = owner_listings.id\n",
    "    and owner.host_id = owner_listings.host_id\n",
    "    and listings.id = listing_city.id\n",
    "    and city='Amsterdam'\n",
    "GROUP BY\n",
    "    owner.host_id, owner.host_name, listing_city.city\n",
    "ORDER BY\n",
    "    listing_city.city, num_listings desc\n",
    "Limit 5    \n",
    "\"\"\"\n",
    "\n",
    "most_listings_ams = spark.sql(sql_query_most_listings)"
   ]
  },
  {
   "cell_type": "code",
   "execution_count": 43,
   "metadata": {},
   "outputs": [
    {
     "name": "stdout",
     "output_type": "stream",
     "text": [
      "+---------+----------+--------+------------+\n",
      "| owner_id|owner_name|    city|num_listings|\n",
      "+---------+----------+--------+------------+\n",
      "|  5285926| Diederick|Den Haag|          29|\n",
      "|  9165668|    Robert|Den Haag|          23|\n",
      "|   300966|     Elwin|Den Haag|          20|\n",
      "|244520390|     Gunni|Den Haag|          18|\n",
      "| 10239880|     Lucas|Den Haag|          17|\n",
      "+---------+----------+--------+------------+\n",
      "\n"
     ]
    }
   ],
   "source": [
    "sql_query_most_listings_dh = f\"\"\"SELECT\n",
    "    owner.host_id as owner_id,\n",
    "    owner.host_name as owner_name,\n",
    "    listing_city.city as city,\n",
    "    count(*) as num_listings\n",
    "FROM\n",
    "    listings, owner, owner_listings, listing_city\n",
    "WHERE\n",
    "    listings.id = owner_listings.id\n",
    "    and owner.host_id = owner_listings.host_id\n",
    "    and listings.id = listing_city.id\n",
    "    and city='Den Haag'\n",
    "GROUP BY\n",
    "    owner.host_id, owner.host_name, listing_city.city\n",
    "ORDER BY\n",
    "    listing_city.city, num_listings desc\n",
    "Limit 5    \n",
    "\"\"\"\n",
    "\n",
    "most_listings_dh = spark.sql(sql_query_most_listings_dh)\n",
    "most_listings_dh.show()"
   ]
  },
  {
   "cell_type": "code",
   "execution_count": 44,
   "metadata": {},
   "outputs": [
    {
     "name": "stdout",
     "output_type": "stream",
     "text": [
      "+---------+----------+---------+------------+\n",
      "| owner_id|owner_name|     city|num_listings|\n",
      "+---------+----------+---------+------------+\n",
      "|448782489|   Martijn|Rotterdam|          36|\n",
      "|432320567|    Tijmen|Rotterdam|          15|\n",
      "|244141635|   Culture|Rotterdam|          12|\n",
      "|436284753|Wikkelboat|Rotterdam|          11|\n",
      "|302893992|   Michiel|Rotterdam|          10|\n",
      "+---------+----------+---------+------------+\n",
      "\n"
     ]
    }
   ],
   "source": [
    "sql_query_most_listings_r = f\"\"\"SELECT\n",
    "    owner.host_id as owner_id,\n",
    "    owner.host_name as owner_name,\n",
    "    listing_city.city as city,\n",
    "    count(*) as num_listings\n",
    "FROM\n",
    "    listings, owner, owner_listings, listing_city\n",
    "WHERE\n",
    "    listings.id = owner_listings.id\n",
    "    and owner.host_id = owner_listings.host_id\n",
    "    and listings.id = listing_city.id\n",
    "    and city='Rotterdam'\n",
    "GROUP BY\n",
    "    owner.host_id, owner.host_name, listing_city.city\n",
    "ORDER BY\n",
    "    listing_city.city, num_listings desc\n",
    "Limit 5    \n",
    "\"\"\"\n",
    "\n",
    "most_listings_r = spark.sql(sql_query_most_listings_r)\n",
    "most_listings_r.show()"
   ]
  },
  {
   "cell_type": "code",
   "execution_count": 46,
   "metadata": {},
   "outputs": [
    {
     "name": "stdout",
     "output_type": "stream",
     "text": [
      "+---------+---------------+---------+------------+\n",
      "| owner_id|     owner_name|     city|num_listings|\n",
      "+---------+---------------+---------+------------+\n",
      "| 14574533|Hotel Not Hotel|Amsterdam|          21|\n",
      "|138369331|          Peter|Amsterdam|          20|\n",
      "|203731852|   SWEETS Hotel|Amsterdam|          20|\n",
      "| 67005410|      Feliciano|Amsterdam|          17|\n",
      "|241644101|     Wittenberg|Amsterdam|          14|\n",
      "|448782489|        Martijn|Rotterdam|          36|\n",
      "|432320567|         Tijmen|Rotterdam|          15|\n",
      "|244141635|        Culture|Rotterdam|          12|\n",
      "|436284753|     Wikkelboat|Rotterdam|          11|\n",
      "|302893992|        Michiel|Rotterdam|          10|\n",
      "|  5285926|      Diederick| Den Haag|          29|\n",
      "|  9165668|         Robert| Den Haag|          23|\n",
      "|   300966|          Elwin| Den Haag|          20|\n",
      "|244520390|          Gunni| Den Haag|          18|\n",
      "| 10239880|          Lucas| Den Haag|          17|\n",
      "+---------+---------------+---------+------------+\n",
      "\n"
     ]
    }
   ],
   "source": [
    "most_listings_per_city=most_listings_ams.union(most_listings_r.union(most_listings_dh))\n",
    "most_listings_per_city.show(15)"
   ]
  },
  {
   "cell_type": "code",
   "execution_count": 47,
   "metadata": {},
   "outputs": [],
   "source": [
    "most_listings_per_city.toPandas().to_csv(\"gs://assignment2_airbnb/Results/most_listings_per_city.csv\")"
   ]
  },
  {
   "cell_type": "code",
   "execution_count": 49,
   "metadata": {},
   "outputs": [
    {
     "name": "stdout",
     "output_type": "stream",
     "text": [
      "+---------+------------+\n",
      "|     city|num_listings|\n",
      "+---------+------------+\n",
      "|Amsterdam|        6884|\n",
      "| Den Haag|        1078|\n",
      "|Rotterdam|        1041|\n",
      "+---------+------------+\n",
      "\n"
     ]
    }
   ],
   "source": [
    "#get number of listings per city\n",
    "query_nr_listings_per_city = \"\"\"\n",
    "SELECT\n",
    "    listing_city.city as city,\n",
    "    COUNT(*) as num_listings\n",
    "FROM\n",
    "    listings, listing_city\n",
    "WHERE\n",
    "    listings.id = listing_city.id\n",
    "GROUP BY\n",
    "    listing_city.city\n",
    "ORDER BY\n",
    "    listing_city.city   \n",
    "\"\"\"\n",
    "\n",
    "results_nr_listings_per_city = spark.sql(query_nr_listings_per_city)\n",
    "results_nr_listings_per_city.show()"
   ]
  },
  {
   "cell_type": "code",
   "execution_count": 50,
   "metadata": {},
   "outputs": [],
   "source": [
    "results_nr_listings_per_city.toPandas().to_csv(\"gs://assignment2_airbnb/Results/no_listings_per_city.csv\")"
   ]
  },
  {
   "cell_type": "code",
   "execution_count": 51,
   "metadata": {},
   "outputs": [],
   "source": [
    "spark.stop()"
   ]
  }
 ],
 "metadata": {
  "kernelspec": {
   "display_name": "Python 3 (ipykernel)",
   "language": "python",
   "name": "python3"
  },
  "language_info": {
   "codemirror_mode": {
    "name": "ipython",
    "version": 3
   },
   "file_extension": ".py",
   "mimetype": "text/x-python",
   "name": "python",
   "nbconvert_exporter": "python",
   "pygments_lexer": "ipython3",
   "version": "3.10.6"
  },
  "vscode": {
   "interpreter": {
    "hash": "0d0b357807bdd6cd8aa1b36cc9830dd9025da982ad3117fc0608eb1481b3304b"
   }
  }
 },
 "nbformat": 4,
 "nbformat_minor": 4
}
